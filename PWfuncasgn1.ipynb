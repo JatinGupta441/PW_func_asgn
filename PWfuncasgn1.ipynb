{
 "cells": [
  {
   "cell_type": "code",
   "execution_count": 1,
   "id": "27969147",
   "metadata": {},
   "outputs": [],
   "source": [
    "#Q1\n",
    "#keyword def is used to create a function\n",
    "lis=list(range(1,25))\n",
    "def oddlis(x):\n",
    "    lis1=[]\n",
    "    for i in x:\n",
    "        if (i%2!=0):\n",
    "            lis1.append(i)\n",
    "    return lis1"
   ]
  },
  {
   "cell_type": "code",
   "execution_count": 2,
   "id": "672a0fff",
   "metadata": {},
   "outputs": [
    {
     "data": {
      "text/plain": [
       "[1, 3, 5, 7, 9, 11, 13, 15, 17, 19, 21, 23]"
      ]
     },
     "execution_count": 2,
     "metadata": {},
     "output_type": "execute_result"
    }
   ],
   "source": [
    "oddlis(lis)"
   ]
  },
  {
   "cell_type": "code",
   "execution_count": 17,
   "id": "3951f472",
   "metadata": {},
   "outputs": [],
   "source": [
    "#Q2\n",
    "#*args is used to add as many parameters as we want when calling the function\n",
    "#**kwargs is used to convert the parameters into a dictonary when calling the function\n",
    "def egargs(*args,x):\n",
    "    return list(args),x\n",
    "def egkwargs(**kwargs):\n",
    "    return kwargs"
   ]
  },
  {
   "cell_type": "code",
   "execution_count": 19,
   "id": "25a1abf3",
   "metadata": {},
   "outputs": [
    {
     "data": {
      "text/plain": [
       "([1, 22, 3, 4], 8)"
      ]
     },
     "execution_count": 19,
     "metadata": {},
     "output_type": "execute_result"
    }
   ],
   "source": [
    "egargs(1,22,3,4,x=8)"
   ]
  },
  {
   "cell_type": "code",
   "execution_count": 20,
   "id": "a5b0f88c",
   "metadata": {},
   "outputs": [
    {
     "data": {
      "text/plain": [
       "{'J': 'Gupta', 'b': (4+8j), 'c': 9.9, 'd': [3, 4, 2.2], 'e': {'a': 2}}"
      ]
     },
     "execution_count": 20,
     "metadata": {},
     "output_type": "execute_result"
    }
   ],
   "source": [
    "egkwargs(J=\"Gupta\",b=4+8j,c=9.9,d=[3,4,2.2],e={\"a\":2})"
   ]
  },
  {
   "cell_type": "code",
   "execution_count": 24,
   "id": "a0aac282",
   "metadata": {},
   "outputs": [],
   "source": [
    "#Q3\n",
    "#an iterator iterates all the values of the object i.e it goes through all the elements of the object\n",
    "#iter() and next()\n",
    "lis1=[2, 4, 6, 8, 10, 12, 14,16, 18, 20]\n",
    "lis2=iter(lis1)\n"
   ]
  },
  {
   "cell_type": "code",
   "execution_count": 25,
   "id": "494ebe5a",
   "metadata": {},
   "outputs": [
    {
     "data": {
      "text/plain": [
       "2"
      ]
     },
     "execution_count": 25,
     "metadata": {},
     "output_type": "execute_result"
    }
   ],
   "source": [
    "next(lis2)"
   ]
  },
  {
   "cell_type": "code",
   "execution_count": 26,
   "id": "e2602a68",
   "metadata": {},
   "outputs": [
    {
     "data": {
      "text/plain": [
       "4"
      ]
     },
     "execution_count": 26,
     "metadata": {},
     "output_type": "execute_result"
    }
   ],
   "source": [
    "next(lis2)"
   ]
  },
  {
   "cell_type": "code",
   "execution_count": 27,
   "id": "bb2d172b",
   "metadata": {},
   "outputs": [
    {
     "data": {
      "text/plain": [
       "6"
      ]
     },
     "execution_count": 27,
     "metadata": {},
     "output_type": "execute_result"
    }
   ],
   "source": [
    "next(lis2)"
   ]
  },
  {
   "cell_type": "code",
   "execution_count": 28,
   "id": "7c1a7a0b",
   "metadata": {},
   "outputs": [
    {
     "data": {
      "text/plain": [
       "8"
      ]
     },
     "execution_count": 28,
     "metadata": {},
     "output_type": "execute_result"
    }
   ],
   "source": [
    "next(lis2)"
   ]
  },
  {
   "cell_type": "code",
   "execution_count": 29,
   "id": "37d09b11",
   "metadata": {},
   "outputs": [
    {
     "data": {
      "text/plain": [
       "10"
      ]
     },
     "execution_count": 29,
     "metadata": {},
     "output_type": "execute_result"
    }
   ],
   "source": [
    "next(lis2)"
   ]
  },
  {
   "cell_type": "code",
   "execution_count": 30,
   "id": "b0593b33",
   "metadata": {},
   "outputs": [],
   "source": [
    "#Q4\n",
    "# a generator function generates the values when taken through a iteration process.\n",
    "# yield keyword makes a function generator function, it stores/produces results when iterated.\n",
    "# range() is an example of a generator function"
   ]
  },
  {
   "cell_type": "code",
   "execution_count": 42,
   "id": "b3a5d7e9",
   "metadata": {},
   "outputs": [
    {
     "name": "stdout",
     "output_type": "stream",
     "text": [
      "2\n",
      "3\n",
      "5\n",
      "7\n",
      "11\n",
      "13\n",
      "17\n",
      "19\n",
      "23\n",
      "29\n",
      "31\n",
      "37\n",
      "41\n",
      "43\n",
      "47\n",
      "53\n",
      "59\n",
      "61\n",
      "67\n",
      "71\n"
     ]
    }
   ],
   "source": [
    "#Q5\n",
    "def genpnum():\n",
    "    num = 2\n",
    "    while num < 1000:\n",
    "        isp = True\n",
    "        for i in range(2, num):\n",
    "            if num%i==0:\n",
    "                isp = False\n",
    "                break\n",
    "        if isp:\n",
    "            yield num\n",
    "        num += 1\n",
    "prime=genpnum()\n",
    "for i in range(20):\n",
    "    print(next(prime))"
   ]
  },
  {
   "cell_type": "code",
   "execution_count": 39,
   "id": "1567e635",
   "metadata": {},
   "outputs": [
    {
     "data": {
      "text/plain": [
       "generator"
      ]
     },
     "execution_count": 39,
     "metadata": {},
     "output_type": "execute_result"
    }
   ],
   "source": [
    "type(prime)"
   ]
  },
  {
   "cell_type": "code",
   "execution_count": 9,
   "id": "07cbceb0",
   "metadata": {},
   "outputs": [],
   "source": [
    "#Q6\n",
    "def fibo():\n",
    "    n=0\n",
    "    a,b=0,1\n",
    "    while n<10:\n",
    "        yield a\n",
    "        a,b=b,a+b\n",
    "        n+=1\n",
    "fib=fibo()"
   ]
  },
  {
   "cell_type": "code",
   "execution_count": 44,
   "id": "280e9579",
   "metadata": {},
   "outputs": [
    {
     "data": {
      "text/plain": [
       "generator"
      ]
     },
     "execution_count": 44,
     "metadata": {},
     "output_type": "execute_result"
    }
   ],
   "source": [
    "type(fib)"
   ]
  },
  {
   "cell_type": "code",
   "execution_count": 10,
   "id": "61f1ec04",
   "metadata": {},
   "outputs": [
    {
     "name": "stdout",
     "output_type": "stream",
     "text": [
      "0\n",
      "1\n",
      "1\n",
      "2\n",
      "3\n",
      "5\n",
      "8\n",
      "13\n",
      "21\n",
      "34\n"
     ]
    }
   ],
   "source": [
    "for i in range(10):\n",
    "    print(next(fib))"
   ]
  },
  {
   "cell_type": "code",
   "execution_count": 11,
   "id": "fd330585",
   "metadata": {},
   "outputs": [
    {
     "data": {
      "text/plain": [
       "['p', 'w', 's', 'k', 'i', 'l', 'l', 's']"
      ]
     },
     "execution_count": 11,
     "metadata": {},
     "output_type": "execute_result"
    }
   ],
   "source": [
    "#Q7\n",
    "str=\"pwskills\"\n",
    "list(str)"
   ]
  },
  {
   "cell_type": "code",
   "execution_count": 10,
   "id": "2fb78c63",
   "metadata": {},
   "outputs": [
    {
     "name": "stdout",
     "output_type": "stream",
     "text": [
      "Enter a word: naman\n",
      "palindrome\n"
     ]
    }
   ],
   "source": [
    "#Q8\n",
    "pel=input(\"Enter a word: \")\n",
    "lis=list(pel)\n",
    "lis8=[]\n",
    "n=len(lis)\n",
    "for i in range(n):\n",
    "    lis8.append(lis[(n-1)-i])\n",
    "chk=0\n",
    "while chk<n:\n",
    "    if lis[chk]!=lis8[chk]:\n",
    "        print(\"not a palindrome\")\n",
    "        break\n",
    "    chk+=1\n",
    "    if (chk==(n-1)):\n",
    "        print(\"palindrome\")\n"
   ]
  },
  {
   "cell_type": "code",
   "execution_count": 12,
   "id": "b0a67d03",
   "metadata": {},
   "outputs": [
    {
     "name": "stdout",
     "output_type": "stream",
     "text": [
      "[1, 3, 5, 7, 9, 11, 13, 15, 17, 19, 21, 23, 25, 27, 29, 31, 33, 35, 37, 39, 41, 43, 45, 47, 49, 51, 53, 55, 57, 59, 61, 63, 65, 67, 69, 71, 73, 75, 77, 79, 81, 83, 85, 87, 89, 91, 93, 95, 97, 99]\n"
     ]
    }
   ],
   "source": [
    "#Q9\n",
    "list1=range(1,101)\n",
    "list2=[]\n",
    "for i in list1:\n",
    "    if i%2!=0:\n",
    "        list2.append(i)\n",
    "print(list2)"
   ]
  },
  {
   "cell_type": "code",
   "execution_count": null,
   "id": "381069ea",
   "metadata": {},
   "outputs": [],
   "source": []
  }
 ],
 "metadata": {
  "kernelspec": {
   "display_name": "Python 3 (ipykernel)",
   "language": "python",
   "name": "python3"
  },
  "language_info": {
   "codemirror_mode": {
    "name": "ipython",
    "version": 3
   },
   "file_extension": ".py",
   "mimetype": "text/x-python",
   "name": "python",
   "nbconvert_exporter": "python",
   "pygments_lexer": "ipython3",
   "version": "3.9.13"
  }
 },
 "nbformat": 4,
 "nbformat_minor": 5
}
