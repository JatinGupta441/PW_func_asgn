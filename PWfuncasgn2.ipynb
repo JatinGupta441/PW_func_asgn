{
 "cells": [
  {
   "cell_type": "code",
   "execution_count": 5,
   "id": "17803425",
   "metadata": {},
   "outputs": [
    {
     "name": "stdout",
     "output_type": "stream",
     "text": [
      "[('Virat Kohli', 24936), ('Jack Kallis', 25534), ('Ricky Ponting', 27483), ('Sachin Tendulkar', 34357)]\n"
     ]
    }
   ],
   "source": [
    "#Q1\n",
    "list1=[('Sachin Tendulkar', 34357), ('Ricky Ponting', 27483), ('Jack Kallis', 25534), ('Virat Kohli', 24936)]\n",
    "list2 = sorted(list1,key=lambda x: x[1])\n",
    "print(list2)\n"
   ]
  },
  {
   "cell_type": "code",
   "execution_count": 6,
   "id": "5b15a12d",
   "metadata": {},
   "outputs": [
    {
     "data": {
      "text/plain": [
       "[1, 4, 9, 16, 25, 36, 49, 64, 81, 100]"
      ]
     },
     "execution_count": 6,
     "metadata": {},
     "output_type": "execute_result"
    }
   ],
   "source": [
    "#Q2\n",
    "sqr=lambda x:x**2\n",
    "sqrlist=[1, 2, 3, 4, 5, 6, 7, 8, 9, 10]\n",
    "list(map(sqr,sqrlist))"
   ]
  },
  {
   "cell_type": "code",
   "execution_count": 7,
   "id": "aa59828c",
   "metadata": {},
   "outputs": [
    {
     "data": {
      "text/plain": [
       "('1', '2', '3', '4', '5', '6', '7', '8', '9', '10')"
      ]
     },
     "execution_count": 7,
     "metadata": {},
     "output_type": "execute_result"
    }
   ],
   "source": [
    "#Q3\n",
    "st=lambda x:str(x)\n",
    "strlis=[1, 2, 3, 4, 5, 6, 7, 8, 9, 10]\n",
    "tuple(map(st,strlis))"
   ]
  },
  {
   "cell_type": "code",
   "execution_count": 10,
   "id": "159fd08f",
   "metadata": {},
   "outputs": [
    {
     "data": {
      "text/plain": [
       "15511210043330985984000000"
      ]
     },
     "execution_count": 10,
     "metadata": {},
     "output_type": "execute_result"
    }
   ],
   "source": [
    "#Q4\n",
    "from functools import reduce\n",
    "pr=lambda x,y:x*y\n",
    "prlis=list(range(1,26))\n",
    "#for i in range(1,26):\n",
    " #   prlis.append(i)\n",
    "reduce(pr,prlis)"
   ]
  },
  {
   "cell_type": "code",
   "execution_count": 18,
   "id": "ec2e8f5e",
   "metadata": {},
   "outputs": [
    {
     "data": {
      "text/plain": [
       "[6, 60, 90, 120]"
      ]
     },
     "execution_count": 18,
     "metadata": {},
     "output_type": "execute_result"
    }
   ],
   "source": [
    "#Q5\n",
    "glist=[2, 3, 6, 9, 27, 60, 90, 120, 55, 46]\n",
    "list(filter(lambda x:x%2==0 and x%3==0,glist))"
   ]
  },
  {
   "cell_type": "code",
   "execution_count": 19,
   "id": "b0d1f893",
   "metadata": {},
   "outputs": [
    {
     "data": {
      "text/plain": [
       "['php', 'aba', 'radar', 'level']"
      ]
     },
     "execution_count": 19,
     "metadata": {},
     "output_type": "execute_result"
    }
   ],
   "source": [
    "#Q6\n",
    "clist=['python', 'php', 'aba', 'radar', 'level']\n",
    "list(filter(lambda x:x==x[::-1],clist))"
   ]
  }
 ],
 "metadata": {
  "kernelspec": {
   "display_name": "Python 3 (ipykernel)",
   "language": "python",
   "name": "python3"
  },
  "language_info": {
   "codemirror_mode": {
    "name": "ipython",
    "version": 3
   },
   "file_extension": ".py",
   "mimetype": "text/x-python",
   "name": "python",
   "nbconvert_exporter": "python",
   "pygments_lexer": "ipython3",
   "version": "3.9.13"
  }
 },
 "nbformat": 4,
 "nbformat_minor": 5
}
